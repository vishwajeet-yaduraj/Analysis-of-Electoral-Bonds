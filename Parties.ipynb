{
 "cells": [
  {
   "cell_type": "code",
   "execution_count": 16,
   "id": "e6edff86",
   "metadata": {},
   "outputs": [],
   "source": [
    "import pandas as pd\n",
    "import matplotlib.pyplot as plt"
   ]
  },
  {
   "cell_type": "code",
   "execution_count": 2,
   "id": "c2c44b7a",
   "metadata": {},
   "outputs": [],
   "source": [
    "df = pd.read_csv('7chin5cxdB.csv')"
   ]
  },
  {
   "cell_type": "code",
   "execution_count": 6,
   "id": "907366c1",
   "metadata": {},
   "outputs": [],
   "source": [
    "df.drop('Unnamed: 3', axis = 1, inplace = True)   "
   ]
  },
  {
   "cell_type": "code",
   "execution_count": 7,
   "id": "3e8a4167",
   "metadata": {},
   "outputs": [],
   "source": [
    "parties =df.groupby('Name of the Political Party') "
   ]
  },
  {
   "cell_type": "code",
   "execution_count": 10,
   "id": "d390565a",
   "metadata": {},
   "outputs": [],
   "source": [
    "sach = parties.sum()"
   ]
  },
  {
   "cell_type": "code",
   "execution_count": 23,
   "id": "679d595c",
   "metadata": {},
   "outputs": [],
   "source": [
    "sorted_sach = sach.sort_values(by = ['Denomination'])"
   ]
  },
  {
   "cell_type": "code",
   "execution_count": 42,
   "id": "060926a4",
   "metadata": {},
   "outputs": [
    {
     "data": {
      "text/html": [
       "<div>\n",
       "<style scoped>\n",
       "    .dataframe tbody tr th:only-of-type {\n",
       "        vertical-align: middle;\n",
       "    }\n",
       "\n",
       "    .dataframe tbody tr th {\n",
       "        vertical-align: top;\n",
       "    }\n",
       "\n",
       "    .dataframe thead th {\n",
       "        text-align: right;\n",
       "    }\n",
       "</style>\n",
       "<table border=\"1\" class=\"dataframe\">\n",
       "  <thead>\n",
       "    <tr style=\"text-align: right;\">\n",
       "      <th></th>\n",
       "      <th>Date of\\nEncashment</th>\n",
       "      <th>Denomination</th>\n",
       "    </tr>\n",
       "    <tr>\n",
       "      <th>Name of the Political Party</th>\n",
       "      <th></th>\n",
       "      <th></th>\n",
       "    </tr>\n",
       "  </thead>\n",
       "  <tbody>\n",
       "    <tr>\n",
       "      <th>RASTRIYA JANTA DAL</th>\n",
       "      <td>16/Apr/201916/Apr/201916/Apr/201916/Apr/201916...</td>\n",
       "      <td>725000000</td>\n",
       "    </tr>\n",
       "    <tr>\n",
       "      <th>SHIVSENA (POLITICAL PARTY)</th>\n",
       "      <td>12/Apr/201912/Apr/201912/Apr/201912/Apr/201912...</td>\n",
       "      <td>1583814000</td>\n",
       "    </tr>\n",
       "    <tr>\n",
       "      <th>TELUGU DESAM PARTY</th>\n",
       "      <td>12/Apr/201912/Apr/201912/Apr/201915/Apr/201915...</td>\n",
       "      <td>2188800000</td>\n",
       "    </tr>\n",
       "    <tr>\n",
       "      <th>YSR CONGRESS PARTY (YUVAJANA SRAMIKA R</th>\n",
       "      <td>12/Apr/201912/Apr/201912/Apr/201912/Apr/201912...</td>\n",
       "      <td>3370000000</td>\n",
       "    </tr>\n",
       "    <tr>\n",
       "      <th>DMK PARTY IN PARLIAMENT</th>\n",
       "      <td>15/Apr/201915/Apr/201915/Apr/201915/Apr/201915...</td>\n",
       "      <td>6390000000</td>\n",
       "    </tr>\n",
       "    <tr>\n",
       "      <th>BIJU JANATA DAL</th>\n",
       "      <td>20/Jul/201920/Jul/201920/Jul/201920/Jul/201920...</td>\n",
       "      <td>7755000000</td>\n",
       "    </tr>\n",
       "    <tr>\n",
       "      <th>BHARAT RASHTRA SAMITHI</th>\n",
       "      <td>12/Apr/201912/Apr/201912/Apr/201912/Apr/201912...</td>\n",
       "      <td>12147099000</td>\n",
       "    </tr>\n",
       "    <tr>\n",
       "      <th>PRESIDENT, ALL INDIA CONGRESS COMMITTEE</th>\n",
       "      <td>12/Apr/201912/Apr/201912/Apr/201912/Apr/201912...</td>\n",
       "      <td>14218655000</td>\n",
       "    </tr>\n",
       "    <tr>\n",
       "      <th>ALL INDIA TRINAMOOL CONGRESS</th>\n",
       "      <td>16/Apr/201916/Apr/201916/Apr/201916/Apr/201916...</td>\n",
       "      <td>16095314000</td>\n",
       "    </tr>\n",
       "    <tr>\n",
       "      <th>BHARTIYA JANTA PARTY</th>\n",
       "      <td>12/Apr/201912/Apr/201912/Apr/201912/Apr/201912...</td>\n",
       "      <td>60605111000</td>\n",
       "    </tr>\n",
       "  </tbody>\n",
       "</table>\n",
       "</div>"
      ],
      "text/plain": [
       "                                                                       Date of\\nEncashment  \\\n",
       "Name of the Political Party                                                                  \n",
       "RASTRIYA JANTA DAL                       16/Apr/201916/Apr/201916/Apr/201916/Apr/201916...   \n",
       "SHIVSENA (POLITICAL PARTY)               12/Apr/201912/Apr/201912/Apr/201912/Apr/201912...   \n",
       "TELUGU DESAM PARTY                       12/Apr/201912/Apr/201912/Apr/201915/Apr/201915...   \n",
       "YSR CONGRESS PARTY (YUVAJANA SRAMIKA R   12/Apr/201912/Apr/201912/Apr/201912/Apr/201912...   \n",
       "DMK PARTY IN PARLIAMENT                  15/Apr/201915/Apr/201915/Apr/201915/Apr/201915...   \n",
       "BIJU JANATA DAL                          20/Jul/201920/Jul/201920/Jul/201920/Jul/201920...   \n",
       "BHARAT RASHTRA SAMITHI                   12/Apr/201912/Apr/201912/Apr/201912/Apr/201912...   \n",
       "PRESIDENT, ALL INDIA CONGRESS COMMITTEE  12/Apr/201912/Apr/201912/Apr/201912/Apr/201912...   \n",
       "ALL INDIA TRINAMOOL CONGRESS             16/Apr/201916/Apr/201916/Apr/201916/Apr/201916...   \n",
       "BHARTIYA JANTA PARTY                     12/Apr/201912/Apr/201912/Apr/201912/Apr/201912...   \n",
       "\n",
       "                                         Denomination  \n",
       "Name of the Political Party                            \n",
       "RASTRIYA JANTA DAL                          725000000  \n",
       "SHIVSENA (POLITICAL PARTY)                 1583814000  \n",
       "TELUGU DESAM PARTY                         2188800000  \n",
       "YSR CONGRESS PARTY (YUVAJANA SRAMIKA R     3370000000  \n",
       "DMK PARTY IN PARLIAMENT                    6390000000  \n",
       "BIJU JANATA DAL                            7755000000  \n",
       "BHARAT RASHTRA SAMITHI                    12147099000  \n",
       "PRESIDENT, ALL INDIA CONGRESS COMMITTEE   14218655000  \n",
       "ALL INDIA TRINAMOOL CONGRESS              16095314000  \n",
       "BHARTIYA JANTA PARTY                      60605111000  "
      ]
     },
     "execution_count": 42,
     "metadata": {},
     "output_type": "execute_result"
    }
   ],
   "source": [
    "top_10 = sorted_sach.tail(10)\n",
    "top_10"
   ]
  },
  {
   "cell_type": "code",
   "execution_count": 43,
   "id": "98b9f3ee",
   "metadata": {},
   "outputs": [],
   "source": [
    "Parties = ['RJD','Shivsena','Desam','YSR','DMK','BIJU','RASHTRA SAMITHI', 'INC', 'TRINAMOOL', 'BJP']\n",
    "paise = top_10['Denomination']"
   ]
  },
  {
   "cell_type": "code",
   "execution_count": 50,
   "id": "1df78ff4",
   "metadata": {},
   "outputs": [
    {
     "data": {
      "image/png": "[encoded data removed]",
      "text/plain": [
       "<Figure size 640x480 with 1 Axes>"
      ]
     },
     "metadata": {},
     "output_type": "display_data"
    }
   ],
   "source": [
    "plt.bar(Parties, paise)\n",
    "\n",
    "plt.xlabel('Name of Parties')\n",
    "plt.xticks(rotation=90)\n",
    "plt.ylabel('Donations')\n",
    "plt.title('Party and Donations')\n",
    "plt.savefig('CHOR_SALE.png')"
   ]
  },
  {
   "cell_type": "code",
   "execution_count": null,
   "id": "5eac3c77",
   "metadata": {},
   "outputs": [],
   "source": []
  }
 ],
 "metadata": {
  "kernelspec": {
   "display_name": "Python 3 (ipykernel)",
   "language": "python",
   "name": "python3"
  },
  "language_info": {
   "codemirror_mode": {
    "name": "ipython",
    "version": 3
   },
   "file_extension": ".py",
   "mimetype": "text/x-python",
   "name": "python",
   "nbconvert_exporter": "python",
   "pygments_lexer": "ipython3",
   "version": "3.11.5"
  }
 },
 "nbformat": 4,
 "nbformat_minor": 5
}
